{
 "cells": [
  {
   "cell_type": "code",
   "execution_count": 169,
   "metadata": {},
   "outputs": [
    {
     "name": "stdout",
     "output_type": "stream",
     "text": [
      "The jupyter_black extension is already loaded. To reload it, use:\n",
      "  %reload_ext jupyter_black\n"
     ]
    }
   ],
   "source": [
    "%load_ext jupyter_black"
   ]
  },
  {
   "cell_type": "code",
   "execution_count": 170,
   "metadata": {},
   "outputs": [],
   "source": [
    "CUSTOM_MODEL_NAME = \"my_ssd_mobnet\"\n",
    "PRETRAINED_MODEL_NAME = \"ssd_mobilenet_v2_fpnlite_320x320_coco17_tpu-8\"\n",
    "PRETRAINED_MODEL_URL = \"http://download.tensorflow.org/models/object_detection/tf2/20200711/ssd_mobilenet_v2_fpnlite_320x320_coco17_tpu-8.tar.gz\"\n",
    "LABEL_MAP_NAME = \"label_map.pbtxt\""
   ]
  },
  {
   "cell_type": "code",
   "execution_count": 171,
   "metadata": {},
   "outputs": [],
   "source": [
    "import os"
   ]
  },
  {
   "cell_type": "code",
   "execution_count": 172,
   "metadata": {},
   "outputs": [],
   "source": [
    "paths = {\n",
    "    \"WORKSPACE_PATH\": os.path.join(\n",
    "        \"/users\", \"sepi\", \"Desktop\", \"Coding\", \"Data\", \"Tensorflow\", \"workspace\"\n",
    "    ),\n",
    "    \"SCRIPTS_PATH\": os.path.join(\n",
    "        \"/users\", \"sepi\", \"Desktop\", \"Coding\", \"Data\", \"Tensorflow\", \"scripts\"\n",
    "    ),\n",
    "    \"APIMODEL_PATH\": os.path.join(\n",
    "        \"/users\",\n",
    "        \"sepi\",\n",
    "        \"Desktop\",\n",
    "        \"Coding\",\n",
    "        \"Data\",\n",
    "        \"Tensorflow\",\n",
    "        \"models\",\n",
    "    ),\n",
    "    \"ANNOTATION_PATH\": os.path.join(\n",
    "        \"/users\",\n",
    "        \"sepi\",\n",
    "        \"Desktop\",\n",
    "        \"Coding\",\n",
    "        \"Data\",\n",
    "        \"Tensorflow\",\n",
    "        \"workspace\",\n",
    "        \"annotations\",\n",
    "    ),\n",
    "    \"IMAGE_PATH\": os.path.join(\n",
    "        \"/users\",\n",
    "        \"sepi\",\n",
    "        \"Desktop\",\n",
    "        \"Coding\",\n",
    "        \"Data\",\n",
    "        \"Tensorflow\",\n",
    "        \"workspace\",\n",
    "        \"images\",\n",
    "    ),\n",
    "    \"MODEL_PATH\": os.path.join(\n",
    "        \"/users\",\n",
    "        \"sepi\",\n",
    "        \"Desktop\",\n",
    "        \"Coding\",\n",
    "        \"Data\",\n",
    "        \"Tensorflow\",\n",
    "        \"workspace\",\n",
    "        \"models\",\n",
    "    ),\n",
    "    \"PRETRAINED_MODEL_PATH\": os.path.join(\n",
    "        \"/users\",\n",
    "        \"sepi\",\n",
    "        \"Desktop\",\n",
    "        \"Coding\",\n",
    "        \"Data\",\n",
    "        \"Tensorflow\",\n",
    "        \"workspace\",\n",
    "        \"pre-trained-models\",\n",
    "    ),\n",
    "    \"CHECKPOINT_PATH\": os.path.join(\n",
    "        \"/users\",\n",
    "        \"sepi\",\n",
    "        \"Desktop\",\n",
    "        \"Coding\",\n",
    "        \"Data\",\n",
    "        \"Tensorflow\",\n",
    "        \"workspace\",\n",
    "        \"models\",\n",
    "        CUSTOM_MODEL_NAME,\n",
    "    ),\n",
    "    \"OUTPUT_PATH\": os.path.join(\n",
    "        \"/users\",\n",
    "        \"sepi\",\n",
    "        \"Desktop\",\n",
    "        \"Coding\",\n",
    "        \"Data\",\n",
    "        \"Tensorflow\",\n",
    "        \"workspace\",\n",
    "        \"models\",\n",
    "        CUSTOM_MODEL_NAME,\n",
    "        \"export\",\n",
    "    ),\n",
    "    \"TFJS_PATH\": os.path.join(\n",
    "        \"/users\",\n",
    "        \"sepi\",\n",
    "        \"Desktop\",\n",
    "        \"Coding\",\n",
    "        \"Data\",\n",
    "        \"Tensorflow\",\n",
    "        \"workspace\",\n",
    "        \"models\",\n",
    "        CUSTOM_MODEL_NAME,\n",
    "        \"tfjsexport\",\n",
    "    ),\n",
    "    \"TFLITE_PATH\": os.path.join(\n",
    "        \"/users\",\n",
    "        \"sepi\",\n",
    "        \"Desktop\",\n",
    "        \"Coding\",\n",
    "        \"Data\",\n",
    "        \"Tensorflow\",\n",
    "        \"workspace\",\n",
    "        \"models\",\n",
    "        CUSTOM_MODEL_NAME,\n",
    "        \"tfliteexport\",\n",
    "    ),\n",
    "    \"PROTOC_PATH\": os.path.join(\n",
    "        \"/users\", \"sepi\", \"Desktop\", \"Coding\", \"Data\", \"Tensorflow\", \"protoc\"\n",
    "    ),\n",
    "}"
   ]
  },
  {
   "cell_type": "code",
   "execution_count": 173,
   "metadata": {},
   "outputs": [],
   "source": [
    "files = {\n",
    "    \"PIPELINE_CONFIG\": os.path.join(\n",
    "        \"/users\",\n",
    "        \"sepi\",\n",
    "        \"Desktop\",\n",
    "        \"Coding\",\n",
    "        \"Data\",\n",
    "        \"Tensorflow\",\n",
    "        \"workspace\",\n",
    "        \"models\",\n",
    "        CUSTOM_MODEL_NAME,\n",
    "        \"pipeline.config\",\n",
    "    ),\n",
    "    \"LABELMAP\": os.path.join(paths[\"ANNOTATION_PATH\"], LABEL_MAP_NAME),\n",
    "}"
   ]
  },
  {
   "cell_type": "code",
   "execution_count": 174,
   "metadata": {},
   "outputs": [
    {
     "name": "stdout",
     "output_type": "stream",
     "text": [
      "/users/sepi/Desktop/Coding/Data/Tensorflow/workspace\n",
      "/users/sepi/Desktop/Coding/Data/Tensorflow/scripts\n",
      "/users/sepi/Desktop/Coding/Data/Tensorflow/models\n",
      "/users/sepi/Desktop/Coding/Data/Tensorflow/workspace/annotations\n",
      "/users/sepi/Desktop/Coding/Data/Tensorflow/workspace/images\n",
      "/users/sepi/Desktop/Coding/Data/Tensorflow/workspace/models\n",
      "/users/sepi/Desktop/Coding/Data/Tensorflow/workspace/pre-trained-models\n",
      "/users/sepi/Desktop/Coding/Data/Tensorflow/workspace/models/my_ssd_mobnet\n",
      "/users/sepi/Desktop/Coding/Data/Tensorflow/workspace/models/my_ssd_mobnet/export\n",
      "/users/sepi/Desktop/Coding/Data/Tensorflow/workspace/models/my_ssd_mobnet/tfjsexport\n",
      "/users/sepi/Desktop/Coding/Data/Tensorflow/workspace/models/my_ssd_mobnet/tfliteexport\n",
      "/users/sepi/Desktop/Coding/Data/Tensorflow/protoc\n"
     ]
    }
   ],
   "source": [
    "for path in paths.values():\n",
    "    print(path)\n",
    "    if not os.path.exists(path):\n",
    "        if os.name == \"posix\":\n",
    "            !mkdir -p {path}"
   ]
  },
  {
   "cell_type": "code",
   "execution_count": 175,
   "metadata": {},
   "outputs": [],
   "source": [
    "# import dependencies\n",
    "import tensorflow as tf  #\n",
    "from tensorflow import keras\n",
    "from keras import layers"
   ]
  },
  {
   "cell_type": "code",
   "execution_count": 176,
   "metadata": {},
   "outputs": [],
   "source": [
    "# set the path\n",
    "import os\n",
    "\n",
    "IMAGES_PATH = os.path.join(\"/users\", \"sepi\", \"Desktop\", \"Coding\", \"Data\", \"esimerkit\")"
   ]
  },
  {
   "cell_type": "code",
   "execution_count": 177,
   "metadata": {},
   "outputs": [],
   "source": [
    "# The path to the dataset\n",
    "directory = IMAGES_PATH"
   ]
  },
  {
   "cell_type": "code",
   "execution_count": 178,
   "metadata": {},
   "outputs": [
    {
     "name": "stdout",
     "output_type": "stream",
     "text": [
      "Found 240 files belonging to 4 classes.\n",
      "Using 192 files for training.\n",
      "Found 240 files belonging to 4 classes.\n",
      "Using 48 files for validation.\n"
     ]
    }
   ],
   "source": [
    "# Training data\n",
    "from functools import partial\n",
    "\n",
    "load_split = partial(\n",
    "    tf.keras.utils.image_dataset_from_directory,\n",
    "    directory,\n",
    "    labels=\"inferred\",\n",
    "    label_mode=\"int\",\n",
    "    color_mode=\"rgb\",\n",
    "    batch_size=60,\n",
    "    image_size=(829, 796),\n",
    "    shuffle=True,\n",
    "    seed=13,\n",
    "    validation_split=0.2,\n",
    ")\n",
    "\n",
    "ds_train = load_split(subset=\"training\")\n",
    "ds_valid = load_split(subset=\"validation\")"
   ]
  },
  {
   "cell_type": "code",
   "execution_count": 179,
   "metadata": {},
   "outputs": [],
   "source": [
    "class_names = ds_train.class_names"
   ]
  },
  {
   "cell_type": "code",
   "execution_count": 180,
   "metadata": {},
   "outputs": [
    {
     "data": {
      "image/png": "[encoded data removed]",
      "text/plain": [
       "<Figure size 720x720 with 9 Axes>"
      ]
     },
     "metadata": {
      "needs_background": "light"
     },
     "output_type": "display_data"
    }
   ],
   "source": [
    "# Plot training pictures\n",
    "import matplotlib.pyplot as plt\n",
    "\n",
    "plt.figure(figsize=(10, 10))\n",
    "for images, labels in ds_train.take(1):\n",
    "    for i in range(9):\n",
    "        ax = plt.subplot(3, 3, i + 1)\n",
    "        plt.imshow(images[i].numpy().astype(\"uint8\"))\n",
    "        plt.title(class_names[labels[i]])\n",
    "        plt.axis(\"off\")"
   ]
  },
  {
   "cell_type": "code",
   "execution_count": 181,
   "metadata": {},
   "outputs": [],
   "source": [
    "if not os.path.exists(\n",
    "    os.path.join(paths[\"APIMODEL_PATH\"], \"research\", \"object_detection\")\n",
    "):\n",
    "    !git clone https://github.com/tensorflow/models {paths['APIMODEL_PATH']}"
   ]
  },
  {
   "cell_type": "code",
   "execution_count": 182,
   "metadata": {},
   "outputs": [
    {
     "name": "stdout",
     "output_type": "stream",
     "text": [
      "1 Kolmio\n",
      "2 Kuutio\n",
      "3 Pallo\n",
      "4 Sylinteri\n"
     ]
    }
   ],
   "source": [
    "with open(files[\"LABELMAP\"], \"w\") as f:\n",
    "    for id, labelName in enumerate(class_names):\n",
    "        print(id + 1, labelName)\n",
    "        f.write(\"item { \\n\")\n",
    "        f.write(\"\\tname:'{}'\\n\".format(labelName))\n",
    "        f.write(\"\\tid:{}\\n\".format(id + 1))\n",
    "        f.write(\"}\\n\")"
   ]
  },
  {
   "cell_type": "code",
   "execution_count": 183,
   "metadata": {},
   "outputs": [],
   "source": [
    "import object_detection"
   ]
  },
  {
   "cell_type": "code",
   "execution_count": 184,
   "metadata": {},
   "outputs": [],
   "source": [
    "if os.name == \"posix\":\n",
    "    !cp {os.path.join(paths['PRETRAINED_MODEL_PATH'], PRETRAINED_MODEL_NAME, 'pipeline.config')} {os.path.join(paths['CHECKPOINT_PATH'])}"
   ]
  },
  {
   "cell_type": "code",
   "execution_count": 185,
   "metadata": {},
   "outputs": [
    {
     "name": "stdout",
     "output_type": "stream",
     "text": [
      "http://download.tensorflow.org/models/object_detection/tf2/20200711/ssd_mobilenet_v2_fpnlite_320x320_coco17_tpu-8.tar.gz\n",
      "mv: ssd_mobilenet_v2_fpnlite_320x320_coco17_tpu-8.tar.gz: No such file or directory\n",
      "x ssd_mobilenet_v2_fpnlite_320x320_coco17_tpu-8/\n",
      "x ssd_mobilenet_v2_fpnlite_320x320_coco17_tpu-8/checkpoint/\n",
      "x ssd_mobilenet_v2_fpnlite_320x320_coco17_tpu-8/checkpoint/ckpt-0.data-00000-of-00001\n",
      "x ssd_mobilenet_v2_fpnlite_320x320_coco17_tpu-8/checkpoint/checkpoint\n",
      "x ssd_mobilenet_v2_fpnlite_320x320_coco17_tpu-8/checkpoint/ckpt-0.index\n",
      "x ssd_mobilenet_v2_fpnlite_320x320_coco17_tpu-8/pipeline.config\n",
      "x ssd_mobilenet_v2_fpnlite_320x320_coco17_tpu-8/saved_model/\n",
      "x ssd_mobilenet_v2_fpnlite_320x320_coco17_tpu-8/saved_model/saved_model.pb\n",
      "x ssd_mobilenet_v2_fpnlite_320x320_coco17_tpu-8/saved_model/variables/\n",
      "x ssd_mobilenet_v2_fpnlite_320x320_coco17_tpu-8/saved_model/variables/variables.data-00000-of-00001\n",
      "x ssd_mobilenet_v2_fpnlite_320x320_coco17_tpu-8/saved_model/variables/variables.index\n"
     ]
    }
   ],
   "source": [
    "#!brew install wget\n",
    "\n",
    "print(PRETRAINED_MODEL_URL)\n",
    "\n",
    "if os.name == \"posix\":\n",
    "    #!wget {PRETRAINED_MODEL_URL}\n",
    "    !mv {PRETRAINED_MODEL_NAME+'.tar.gz'} {paths['PRETRAINED_MODEL_PATH']}\n",
    "    !cd {paths['PRETRAINED_MODEL_PATH']} && tar -zxvf {PRETRAINED_MODEL_NAME+'.tar.gz'}"
   ]
  },
  {
   "cell_type": "code",
   "execution_count": 186,
   "metadata": {},
   "outputs": [],
   "source": [
    "import tensorflow as tf\n",
    "from sklearn.model_selection import train_test_split\n",
    "\n",
    "TRAINING_FILENAMES, TEST_FILENAMES = train_test_split(\n",
    "    tf.io.gfile.glob(\n",
    "        r\"/Users/sepi/Desktop/Coding/Data/esimerkit2/esimerkki-TFRecords-export/*.tfrecord\"\n",
    "    ),\n",
    "    test_size=0.2,\n",
    "    random_state=101,\n",
    ")"
   ]
  },
  {
   "cell_type": "code",
   "execution_count": 187,
   "metadata": {},
   "outputs": [],
   "source": [
    "# Combine tfrecords\n",
    "import glob\n",
    "import tensorflow as tf\n",
    "\n",
    "\n",
    "trainDB = tf.data.TFRecordDataset(\n",
    "    TRAINING_FILENAMES,\n",
    "    compression_type=None,  # or 'GZIP', 'ZLIB' if compress you data.\n",
    "    buffer_size=0,  # any buffer size you want or 0 means no buffering\n",
    "    num_parallel_reads=os.cpu_count(),  # or 0 means sequentially reading\n",
    ")\n",
    "\n",
    "testDB = tf.data.TFRecordDataset(\n",
    "    TEST_FILENAMES,\n",
    "    compression_type=None,  # or 'GZIP', 'ZLIB' if compress you data.\n",
    "    buffer_size=0,  # any buffer size you want or 0 means no buffering\n",
    "    num_parallel_reads=os.cpu_count(),  # or 0 means sequentially reading\n",
    ")\n",
    "\n",
    "\n",
    "writer = tf.data.experimental.TFRecordWriter(\n",
    "    os.path.join(paths[\"ANNOTATION_PATH\"], \"train.record\")\n",
    ")\n",
    "writer.write(trainDB)\n",
    "\n",
    "writer = tf.data.experimental.TFRecordWriter(\n",
    "    os.path.join(paths[\"ANNOTATION_PATH\"], \"test.record\")\n",
    ")\n",
    "writer.write(testDB)"
   ]
  },
  {
   "cell_type": "code",
   "execution_count": 188,
   "metadata": {},
   "outputs": [],
   "source": [
    "import tensorflow as tf\n",
    "from object_detection.utils import config_util\n",
    "from object_detection.protos import pipeline_pb2\n",
    "from google.protobuf import text_format"
   ]
  },
  {
   "cell_type": "code",
   "execution_count": 189,
   "metadata": {},
   "outputs": [],
   "source": [
    "config = config_util.get_configs_from_pipeline_file(files[\"PIPELINE_CONFIG\"])"
   ]
  },
  {
   "cell_type": "code",
   "execution_count": 190,
   "metadata": {},
   "outputs": [],
   "source": [
    "pipeline_config = pipeline_pb2.TrainEvalPipelineConfig()\n",
    "with tf.io.gfile.GFile(files[\"PIPELINE_CONFIG\"], \"r\") as f:\n",
    "    proto_str = f.read()\n",
    "    text_format.Merge(proto_str, pipeline_config)"
   ]
  },
  {
   "cell_type": "code",
   "execution_count": 191,
   "metadata": {},
   "outputs": [],
   "source": [
    "pipeline_config.model.ssd.num_classes = len(labels)\n",
    "pipeline_config.train_config.batch_size = 4\n",
    "pipeline_config.train_config.fine_tune_checkpoint = os.path.join(\n",
    "    paths[\"PRETRAINED_MODEL_PATH\"], PRETRAINED_MODEL_NAME, \"checkpoint\", \"ckpt-0\"\n",
    ")\n",
    "pipeline_config.train_config.fine_tune_checkpoint_type = \"detection\"\n",
    "pipeline_config.train_input_reader.label_map_path = files[\"LABELMAP\"]\n",
    "pipeline_config.train_input_reader.tf_record_input_reader.input_path[:] = [\n",
    "    os.path.join(paths[\"ANNOTATION_PATH\"], \"train.record\")\n",
    "]\n",
    "pipeline_config.eval_input_reader[0].label_map_path = files[\"LABELMAP\"]\n",
    "pipeline_config.eval_input_reader[0].tf_record_input_reader.input_path[:] = [\n",
    "    os.path.join(paths[\"ANNOTATION_PATH\"], \"test.record\")\n",
    "]"
   ]
  },
  {
   "cell_type": "code",
   "execution_count": 192,
   "metadata": {},
   "outputs": [],
   "source": [
    "config_text = text_format.MessageToString(pipeline_config)\n",
    "with tf.io.gfile.GFile(files[\"PIPELINE_CONFIG\"], \"wb\") as f:\n",
    "    f.write(config_text)"
   ]
  },
  {
   "cell_type": "code",
   "execution_count": 193,
   "metadata": {},
   "outputs": [],
   "source": [
    "TRAINING_SCRIPT = os.path.join(\n",
    "    paths[\"APIMODEL_PATH\"], \"research\", \"object_detection\", \"model_main_tf2.py\"\n",
    ")"
   ]
  },
  {
   "cell_type": "code",
   "execution_count": 194,
   "metadata": {},
   "outputs": [],
   "source": [
    "command = \"python3 {} --model_dir={} --pipeline_config_path={} --num_train_steps=10000\".format(\n",
    "    TRAINING_SCRIPT, paths[\"CHECKPOINT_PATH\"], files[\"PIPELINE_CONFIG\"]\n",
    ")"
   ]
  },
  {
   "cell_type": "code",
   "execution_count": 195,
   "metadata": {},
   "outputs": [
    {
     "name": "stdout",
     "output_type": "stream",
     "text": [
      "/Users/sepi/opt/miniconda3/envs/tensorflow/lib/python3.10/site-packages/tensorflow_io/python/ops/__init__.py:98: UserWarning: unable to load libtensorflow_io_plugins.so: unable to open file: libtensorflow_io_plugins.so, from paths: ['/Users/sepi/opt/miniconda3/envs/tensorflow/lib/python3.10/site-packages/tensorflow_io/python/ops/libtensorflow_io_plugins.so']\n",
      "caused by: [\"[Errno 2] The file to load file system plugin from does not exist.: '/Users/sepi/opt/miniconda3/envs/tensorflow/lib/python3.10/site-packages/tensorflow_io/python/ops/libtensorflow_io_plugins.so'\"]\n",
      "  warnings.warn(f\"unable to load libtensorflow_io_plugins.so: {e}\")\n",
      "/Users/sepi/opt/miniconda3/envs/tensorflow/lib/python3.10/site-packages/tensorflow_io/python/ops/__init__.py:104: UserWarning: file system plugins are not loaded: unable to open file: libtensorflow_io.so, from paths: ['/Users/sepi/opt/miniconda3/envs/tensorflow/lib/python3.10/site-packages/tensorflow_io/python/ops/libtensorflow_io.so']\n",
      "caused by: [\"dlopen(/Users/sepi/opt/miniconda3/envs/tensorflow/lib/python3.10/site-packages/tensorflow_io/python/ops/libtensorflow_io.so, 0x0006): tried: '/Users/sepi/opt/miniconda3/envs/tensorflow/lib/python3.10/site-packages/tensorflow_io/python/ops/libtensorflow_io.so' (no such file), '/System/Volumes/Preboot/Cryptexes/OS/Users/sepi/opt/miniconda3/envs/tensorflow/lib/python3.10/site-packages/tensorflow_io/python/ops/libtensorflow_io.so' (no such file), '/Users/sepi/opt/miniconda3/envs/tensorflow/lib/python3.10/site-packages/tensorflow_io/python/ops/libtensorflow_io.so' (no such file)\"]\n",
      "  warnings.warn(f\"file system plugins are not loaded: {e}\")\n",
      "Metal device set to: Apple M1\n",
      "\n",
      "systemMemory: 8.00 GB\n",
      "maxCacheSize: 2.67 GB\n",
      "\n",
      "2022-08-07 23:49:11.274448: I tensorflow/core/common_runtime/pluggable_device/pluggable_device_factory.cc:305] Could not identify NUMA node of platform GPU ID 0, defaulting to 0. Your kernel may not have been built with NUMA support.\n",
      "2022-08-07 23:49:11.274547: I tensorflow/core/common_runtime/pluggable_device/pluggable_device_factory.cc:271] Created TensorFlow device (/job:localhost/replica:0/task:0/device:GPU:0 with 0 MB memory) -> physical PluggableDevice (device: 0, name: METAL, pci bus id: <undefined>)\n",
      "INFO:tensorflow:Using MirroredStrategy with devices ('/job:localhost/replica:0/task:0/device:GPU:0',)\n",
      "I0807 23:49:11.292201 9334948544 mirrored_strategy.py:374] Using MirroredStrategy with devices ('/job:localhost/replica:0/task:0/device:GPU:0',)\n",
      "INFO:tensorflow:Maybe overwriting train_steps: 10000\n",
      "I0807 23:49:11.304030 9334948544 config_util.py:552] Maybe overwriting train_steps: 10000\n",
      "INFO:tensorflow:Maybe overwriting use_bfloat16: False\n",
      "I0807 23:49:11.304160 9334948544 config_util.py:552] Maybe overwriting use_bfloat16: False\n",
      "WARNING:tensorflow:From /Users/sepi/opt/miniconda3/envs/tensorflow/lib/python3.10/site-packages/object_detection/model_lib_v2.py:563: StrategyBase.experimental_distribute_datasets_from_function (from tensorflow.python.distribute.distribute_lib) is deprecated and will be removed in a future version.\n",
      "Instructions for updating:\n",
      "rename to distribute_datasets_from_function\n",
      "W0807 23:49:11.318854 9334948544 deprecation.py:350] From /Users/sepi/opt/miniconda3/envs/tensorflow/lib/python3.10/site-packages/object_detection/model_lib_v2.py:563: StrategyBase.experimental_distribute_datasets_from_function (from tensorflow.python.distribute.distribute_lib) is deprecated and will be removed in a future version.\n",
      "Instructions for updating:\n",
      "rename to distribute_datasets_from_function\n",
      "INFO:tensorflow:Reading unweighted datasets: ['/users/sepi/Desktop/Coding/Data/Tensorflow/workspace/annotations/train.record']\n",
      "I0807 23:49:11.324517 9334948544 dataset_builder.py:162] Reading unweighted datasets: ['/users/sepi/Desktop/Coding/Data/Tensorflow/workspace/annotations/train.record']\n",
      "INFO:tensorflow:Reading record datasets for input file: ['/users/sepi/Desktop/Coding/Data/Tensorflow/workspace/annotations/train.record']\n",
      "I0807 23:49:11.324630 9334948544 dataset_builder.py:79] Reading record datasets for input file: ['/users/sepi/Desktop/Coding/Data/Tensorflow/workspace/annotations/train.record']\n",
      "INFO:tensorflow:Number of filenames to read: 1\n",
      "I0807 23:49:11.324656 9334948544 dataset_builder.py:80] Number of filenames to read: 1\n",
      "WARNING:tensorflow:num_readers has been reduced to 1 to match input file shards.\n",
      "W0807 23:49:11.324678 9334948544 dataset_builder.py:86] num_readers has been reduced to 1 to match input file shards.\n",
      "WARNING:tensorflow:From /Users/sepi/opt/miniconda3/envs/tensorflow/lib/python3.10/site-packages/object_detection/builders/dataset_builder.py:100: parallel_interleave (from tensorflow.python.data.experimental.ops.interleave_ops) is deprecated and will be removed in a future version.\n",
      "Instructions for updating:\n",
      "Use `tf.data.Dataset.interleave(map_func, cycle_length, block_length, num_parallel_calls=tf.data.AUTOTUNE)` instead. If sloppy execution is desired, use `tf.data.Options.deterministic`.\n",
      "W0807 23:49:11.326941 9334948544 deprecation.py:350] From /Users/sepi/opt/miniconda3/envs/tensorflow/lib/python3.10/site-packages/object_detection/builders/dataset_builder.py:100: parallel_interleave (from tensorflow.python.data.experimental.ops.interleave_ops) is deprecated and will be removed in a future version.\n",
      "Instructions for updating:\n",
      "Use `tf.data.Dataset.interleave(map_func, cycle_length, block_length, num_parallel_calls=tf.data.AUTOTUNE)` instead. If sloppy execution is desired, use `tf.data.Options.deterministic`.\n",
      "WARNING:tensorflow:From /Users/sepi/opt/miniconda3/envs/tensorflow/lib/python3.10/site-packages/object_detection/builders/dataset_builder.py:235: DatasetV1.map_with_legacy_function (from tensorflow.python.data.ops.dataset_ops) is deprecated and will be removed in a future version.\n",
      "Instructions for updating:\n",
      "Use `tf.data.Dataset.map()\n",
      "W0807 23:49:11.338919 9334948544 deprecation.py:350] From /Users/sepi/opt/miniconda3/envs/tensorflow/lib/python3.10/site-packages/object_detection/builders/dataset_builder.py:235: DatasetV1.map_with_legacy_function (from tensorflow.python.data.ops.dataset_ops) is deprecated and will be removed in a future version.\n",
      "Instructions for updating:\n",
      "Use `tf.data.Dataset.map()\n",
      "WARNING:tensorflow:From /Users/sepi/opt/miniconda3/envs/tensorflow/lib/python3.10/site-packages/tensorflow/python/util/dispatch.py:1082: sparse_to_dense (from tensorflow.python.ops.sparse_ops) is deprecated and will be removed in a future version.\n",
      "Instructions for updating:\n",
      "Create a `tf.sparse.SparseTensor` and use `tf.sparse.to_dense` instead.\n",
      "W0807 23:49:14.814021 9334948544 deprecation.py:350] From /Users/sepi/opt/miniconda3/envs/tensorflow/lib/python3.10/site-packages/tensorflow/python/util/dispatch.py:1082: sparse_to_dense (from tensorflow.python.ops.sparse_ops) is deprecated and will be removed in a future version.\n",
      "Instructions for updating:\n",
      "Create a `tf.sparse.SparseTensor` and use `tf.sparse.to_dense` instead.\n",
      "WARNING:tensorflow:From /Users/sepi/opt/miniconda3/envs/tensorflow/lib/python3.10/site-packages/tensorflow/python/util/dispatch.py:1082: sample_distorted_bounding_box (from tensorflow.python.ops.image_ops_impl) is deprecated and will be removed in a future version.\n",
      "Instructions for updating:\n",
      "`seed2` arg is deprecated.Use sample_distorted_bounding_box_v2 instead.\n",
      "W0807 23:49:16.215154 9334948544 deprecation.py:350] From /Users/sepi/opt/miniconda3/envs/tensorflow/lib/python3.10/site-packages/tensorflow/python/util/dispatch.py:1082: sample_distorted_bounding_box (from tensorflow.python.ops.image_ops_impl) is deprecated and will be removed in a future version.\n",
      "Instructions for updating:\n",
      "`seed2` arg is deprecated.Use sample_distorted_bounding_box_v2 instead.\n",
      "WARNING:tensorflow:From /Users/sepi/opt/miniconda3/envs/tensorflow/lib/python3.10/site-packages/tensorflow/python/util/dispatch.py:1082: to_float (from tensorflow.python.ops.math_ops) is deprecated and will be removed in a future version.\n",
      "Instructions for updating:\n",
      "Use `tf.cast` instead.\n",
      "W0807 23:49:17.143446 9334948544 deprecation.py:350] From /Users/sepi/opt/miniconda3/envs/tensorflow/lib/python3.10/site-packages/tensorflow/python/util/dispatch.py:1082: to_float (from tensorflow.python.ops.math_ops) is deprecated and will be removed in a future version.\n",
      "Instructions for updating:\n",
      "Use `tf.cast` instead.\n",
      "2022-08-07 23:49:18.151639: W tensorflow/core/platform/profile_utils/cpu_utils.cc:128] Failed to get CPU frequency: 0 Hz\n",
      "2022-08-07 23:49:18.317652: I tensorflow/core/grappler/optimizers/custom_graph_optimizer_registry.cc:113] Plugin optimizer for device_type GPU is enabled.\n",
      "2022-08-07 23:49:18.320960: I tensorflow/core/grappler/optimizers/custom_graph_optimizer_registry.cc:113] Plugin optimizer for device_type GPU is enabled.\n",
      "/Users/sepi/opt/miniconda3/envs/tensorflow/lib/python3.10/site-packages/keras/backend.py:450: UserWarning: `tf.keras.backend.set_learning_phase` is deprecated and will be removed after 2020-10-11. To update it, simply pass a True/False value to the `training` argument of the `__call__` method of your layer or model.\n",
      "  warnings.warn('`tf.keras.backend.set_learning_phase` is deprecated and '\n",
      "2022-08-07 23:49:26.578024: I tensorflow/core/grappler/optimizers/custom_graph_optimizer_registry.cc:113] Plugin optimizer for device_type GPU is enabled.\n",
      "2022-08-07 23:49:30.463232: I tensorflow/core/grappler/optimizers/custom_graph_optimizer_registry.cc:113] Plugin optimizer for device_type GPU is enabled.\n",
      "2022-08-07 23:49:30.466647: I tensorflow/core/grappler/optimizers/custom_graph_optimizer_registry.cc:113] Plugin optimizer for device_type GPU is enabled.\n",
      "INFO:tensorflow:Reduce to /job:localhost/replica:0/task:0/device:CPU:0 then broadcast to ('/job:localhost/replica:0/task:0/device:CPU:0',).\n",
      "I0807 23:49:30.545675 9334948544 cross_device_ops.py:616] Reduce to /job:localhost/replica:0/task:0/device:CPU:0 then broadcast to ('/job:localhost/replica:0/task:0/device:CPU:0',).\n",
      "INFO:tensorflow:Reduce to /job:localhost/replica:0/task:0/device:CPU:0 then broadcast to ('/job:localhost/replica:0/task:0/device:CPU:0',).\n",
      "I0807 23:49:30.548105 9334948544 cross_device_ops.py:616] Reduce to /job:localhost/replica:0/task:0/device:CPU:0 then broadcast to ('/job:localhost/replica:0/task:0/device:CPU:0',).\n",
      "INFO:tensorflow:Reduce to /job:localhost/replica:0/task:0/device:CPU:0 then broadcast to ('/job:localhost/replica:0/task:0/device:CPU:0',).\n",
      "I0807 23:49:30.550507 9334948544 cross_device_ops.py:616] Reduce to /job:localhost/replica:0/task:0/device:CPU:0 then broadcast to ('/job:localhost/replica:0/task:0/device:CPU:0',).\n",
      "INFO:tensorflow:Reduce to /job:localhost/replica:0/task:0/device:CPU:0 then broadcast to ('/job:localhost/replica:0/task:0/device:CPU:0',).\n",
      "I0807 23:49:30.551280 9334948544 cross_device_ops.py:616] Reduce to /job:localhost/replica:0/task:0/device:CPU:0 then broadcast to ('/job:localhost/replica:0/task:0/device:CPU:0',).\n",
      "INFO:tensorflow:Reduce to /job:localhost/replica:0/task:0/device:CPU:0 then broadcast to ('/job:localhost/replica:0/task:0/device:CPU:0',).\n",
      "I0807 23:49:30.553268 9334948544 cross_device_ops.py:616] Reduce to /job:localhost/replica:0/task:0/device:CPU:0 then broadcast to ('/job:localhost/replica:0/task:0/device:CPU:0',).\n",
      "INFO:tensorflow:Reduce to /job:localhost/replica:0/task:0/device:CPU:0 then broadcast to ('/job:localhost/replica:0/task:0/device:CPU:0',).\n",
      "I0807 23:49:30.554027 9334948544 cross_device_ops.py:616] Reduce to /job:localhost/replica:0/task:0/device:CPU:0 then broadcast to ('/job:localhost/replica:0/task:0/device:CPU:0',).\n",
      "INFO:tensorflow:Reduce to /job:localhost/replica:0/task:0/device:CPU:0 then broadcast to ('/job:localhost/replica:0/task:0/device:CPU:0',).\n",
      "I0807 23:49:30.555985 9334948544 cross_device_ops.py:616] Reduce to /job:localhost/replica:0/task:0/device:CPU:0 then broadcast to ('/job:localhost/replica:0/task:0/device:CPU:0',).\n",
      "INFO:tensorflow:Reduce to /job:localhost/replica:0/task:0/device:CPU:0 then broadcast to ('/job:localhost/replica:0/task:0/device:CPU:0',).\n",
      "I0807 23:49:30.556645 9334948544 cross_device_ops.py:616] Reduce to /job:localhost/replica:0/task:0/device:CPU:0 then broadcast to ('/job:localhost/replica:0/task:0/device:CPU:0',).\n",
      "INFO:tensorflow:Reduce to /job:localhost/replica:0/task:0/device:CPU:0 then broadcast to ('/job:localhost/replica:0/task:0/device:CPU:0',).\n",
      "I0807 23:49:30.558974 9334948544 cross_device_ops.py:616] Reduce to /job:localhost/replica:0/task:0/device:CPU:0 then broadcast to ('/job:localhost/replica:0/task:0/device:CPU:0',).\n",
      "INFO:tensorflow:Reduce to /job:localhost/replica:0/task:0/device:CPU:0 then broadcast to ('/job:localhost/replica:0/task:0/device:CPU:0',).\n",
      "I0807 23:49:30.559933 9334948544 cross_device_ops.py:616] Reduce to /job:localhost/replica:0/task:0/device:CPU:0 then broadcast to ('/job:localhost/replica:0/task:0/device:CPU:0',).\n",
      "WARNING:tensorflow:From /Users/sepi/opt/miniconda3/envs/tensorflow/lib/python3.10/site-packages/tensorflow/python/util/deprecation.py:629: calling map_fn_v2 (from tensorflow.python.ops.map_fn) with dtype is deprecated and will be removed in a future version.\n",
      "Instructions for updating:\n",
      "Use fn_output_signature instead\n",
      "W0807 23:49:30.993989 11984203776 deprecation.py:554] From /Users/sepi/opt/miniconda3/envs/tensorflow/lib/python3.10/site-packages/tensorflow/python/util/deprecation.py:629: calling map_fn_v2 (from tensorflow.python.ops.map_fn) with dtype is deprecated and will be removed in a future version.\n",
      "Instructions for updating:\n",
      "Use fn_output_signature instead\n",
      "2022-08-07 23:49:38.651975: I tensorflow/core/grappler/optimizers/custom_graph_optimizer_registry.cc:113] Plugin optimizer for device_type GPU is enabled.\n",
      "INFO:tensorflow:Step 100 per-step time 0.636s\n",
      "I0807 23:50:34.506484 9334948544 model_lib_v2.py:705] Step 100 per-step time 0.636s\n",
      "INFO:tensorflow:{'Loss/classification_loss': 0.29075834,\n",
      " 'Loss/localization_loss': 0.10148931,\n",
      " 'Loss/regularization_loss': 0.15358543,\n",
      " 'Loss/total_loss': 0.5458331,\n",
      " 'learning_rate': 0.0319994}\n",
      "I0807 23:50:34.515838 9334948544 model_lib_v2.py:708] {'Loss/classification_loss': 0.29075834,\n",
      " 'Loss/localization_loss': 0.10148931,\n",
      " 'Loss/regularization_loss': 0.15358543,\n",
      " 'Loss/total_loss': 0.5458331,\n",
      " 'learning_rate': 0.0319994}\n",
      "INFO:tensorflow:Step 200 per-step time 0.474s\n",
      "I0807 23:51:21.853610 9334948544 model_lib_v2.py:705] Step 200 per-step time 0.474s\n",
      "INFO:tensorflow:{'Loss/classification_loss': 0.25371873,\n",
      " 'Loss/localization_loss': 0.12252657,\n",
      " 'Loss/regularization_loss': 0.15336092,\n",
      " 'Loss/total_loss': 0.5296062,\n",
      " 'learning_rate': 0.0373328}\n",
      "I0807 23:51:21.855169 9334948544 model_lib_v2.py:708] {'Loss/classification_loss': 0.25371873,\n",
      " 'Loss/localization_loss': 0.12252657,\n",
      " 'Loss/regularization_loss': 0.15336092,\n",
      " 'Loss/total_loss': 0.5296062,\n",
      " 'learning_rate': 0.0373328}\n",
      "INFO:tensorflow:Step 300 per-step time 0.413s\n",
      "I0807 23:52:03.115155 9334948544 model_lib_v2.py:705] Step 300 per-step time 0.413s\n",
      "INFO:tensorflow:{'Loss/classification_loss': 0.22194375,\n",
      " 'Loss/localization_loss': 0.13268529,\n",
      " 'Loss/regularization_loss': 0.15315363,\n",
      " 'Loss/total_loss': 0.5077827,\n",
      " 'learning_rate': 0.0426662}\n",
      "I0807 23:52:03.116085 9334948544 model_lib_v2.py:708] {'Loss/classification_loss': 0.22194375,\n",
      " 'Loss/localization_loss': 0.13268529,\n",
      " 'Loss/regularization_loss': 0.15315363,\n",
      " 'Loss/total_loss': 0.5077827,\n",
      " 'learning_rate': 0.0426662}\n",
      "INFO:tensorflow:Step 400 per-step time 0.541s\n",
      "I0807 23:52:57.179658 9334948544 model_lib_v2.py:705] Step 400 per-step time 0.541s\n",
      "INFO:tensorflow:{'Loss/classification_loss': 0.17902505,\n",
      " 'Loss/localization_loss': 0.11159777,\n",
      " 'Loss/regularization_loss': 0.15287322,\n",
      " 'Loss/total_loss': 0.44349605,\n",
      " 'learning_rate': 0.047999598}\n",
      "I0807 23:52:57.180773 9334948544 model_lib_v2.py:708] {'Loss/classification_loss': 0.17902505,\n",
      " 'Loss/localization_loss': 0.11159777,\n",
      " 'Loss/regularization_loss': 0.15287322,\n",
      " 'Loss/total_loss': 0.44349605,\n",
      " 'learning_rate': 0.047999598}\n",
      "INFO:tensorflow:Step 500 per-step time 0.542s\n",
      "I0807 23:53:51.386021 9334948544 model_lib_v2.py:705] Step 500 per-step time 0.542s\n",
      "INFO:tensorflow:{'Loss/classification_loss': 0.2558595,\n",
      " 'Loss/localization_loss': 0.08827979,\n",
      " 'Loss/regularization_loss': 0.15251645,\n",
      " 'Loss/total_loss': 0.49665573,\n",
      " 'learning_rate': 0.053333}\n",
      "I0807 23:53:51.387708 9334948544 model_lib_v2.py:708] {'Loss/classification_loss': 0.2558595,\n",
      " 'Loss/localization_loss': 0.08827979,\n",
      " 'Loss/regularization_loss': 0.15251645,\n",
      " 'Loss/total_loss': 0.49665573,\n",
      " 'learning_rate': 0.053333}\n",
      "INFO:tensorflow:Step 600 per-step time 0.401s\n",
      "I0807 23:54:31.450158 9334948544 model_lib_v2.py:705] Step 600 per-step time 0.401s\n",
      "INFO:tensorflow:{'Loss/classification_loss': 0.26942444,\n",
      " 'Loss/localization_loss': 0.086469665,\n",
      " 'Loss/regularization_loss': 0.15226349,\n",
      " 'Loss/total_loss': 0.5081576,\n",
      " 'learning_rate': 0.0586664}\n",
      "I0807 23:54:31.451168 9334948544 model_lib_v2.py:708] {'Loss/classification_loss': 0.26942444,\n",
      " 'Loss/localization_loss': 0.086469665,\n",
      " 'Loss/regularization_loss': 0.15226349,\n",
      " 'Loss/total_loss': 0.5081576,\n",
      " 'learning_rate': 0.0586664}\n",
      "INFO:tensorflow:Step 700 per-step time 0.462s\n",
      "I0807 23:55:17.620100 9334948544 model_lib_v2.py:705] Step 700 per-step time 0.462s\n",
      "INFO:tensorflow:{'Loss/classification_loss': 0.1397232,\n",
      " 'Loss/localization_loss': 0.12783708,\n",
      " 'Loss/regularization_loss': 0.15185428,\n",
      " 'Loss/total_loss': 0.41941455,\n",
      " 'learning_rate': 0.0639998}\n",
      "I0807 23:55:17.620984 9334948544 model_lib_v2.py:708] {'Loss/classification_loss': 0.1397232,\n",
      " 'Loss/localization_loss': 0.12783708,\n",
      " 'Loss/regularization_loss': 0.15185428,\n",
      " 'Loss/total_loss': 0.41941455,\n",
      " 'learning_rate': 0.0639998}\n"
     ]
    }
   ],
   "source": [
    "!{command}"
   ]
  },
  {
   "cell_type": "code",
   "execution_count": null,
   "metadata": {},
   "outputs": [],
   "source": [
    "command = (\n",
    "    \"python3 {} --model_dir={} --pipeline_config_path={} --checkpoint_dir={}\".format(\n",
    "        TRAINING_SCRIPT,\n",
    "        paths[\"CHECKPOINT_PATH\"],\n",
    "        files[\"PIPELINE_CONFIG\"],\n",
    "        paths[\"CHECKPOINT_PATH\"],\n",
    "    )\n",
    ")"
   ]
  },
  {
   "cell_type": "code",
   "execution_count": null,
   "metadata": {},
   "outputs": [],
   "source": [
    "#!{command}"
   ]
  },
  {
   "cell_type": "code",
   "execution_count": null,
   "metadata": {},
   "outputs": [],
   "source": [
    "import os\n",
    "import tensorflow as tf\n",
    "from object_detection.utils import label_map_util\n",
    "from object_detection.utils import visualization_utils as viz_utils\n",
    "from object_detection.builders import model_builder\n",
    "from object_detection.utils import config_util"
   ]
  },
  {
   "cell_type": "code",
   "execution_count": null,
   "metadata": {},
   "outputs": [],
   "source": [
    "import cv2\n",
    "import numpy as np\n",
    "from matplotlib import pyplot as plt\n",
    "\n",
    "%matplotlib inline"
   ]
  },
  {
   "cell_type": "code",
   "execution_count": null,
   "metadata": {},
   "outputs": [],
   "source": [
    "# Load pipeline config and build a detection model\n",
    "configs = config_util.get_configs_from_pipeline_file(files[\"PIPELINE_CONFIG\"])\n",
    "detection_model = model_builder.build(model_config=configs[\"model\"], is_training=False)\n",
    "\n",
    "# Restore checkpoint\n",
    "ckpt = tf.compat.v2.train.Checkpoint(model=detection_model)\n",
    "ckpt.restore(os.path.join(paths[\"CHECKPOINT_PATH\"], \"ckpt-4\")).expect_partial()\n",
    "\n",
    "\n",
    "@tf.function\n",
    "def detect_fn(image):\n",
    "    image, shapes = detection_model.preprocess(image)\n",
    "    prediction_dict = detection_model.predict(image, shapes)\n",
    "    detections = detection_model.postprocess(prediction_dict, shapes)\n",
    "    return detections"
   ]
  },
  {
   "cell_type": "code",
   "execution_count": null,
   "metadata": {},
   "outputs": [],
   "source": [
    "PATH_TO_LABELS = files[\"LABELMAP\"]\n",
    "\n",
    "category_index = label_map_util.create_category_index_from_labelmap(\n",
    "    PATH_TO_LABELS, use_display_name=True\n",
    ")"
   ]
  },
  {
   "cell_type": "code",
   "execution_count": null,
   "metadata": {},
   "outputs": [],
   "source": [
    "import numpy as np\n",
    "from PIL import Image\n",
    "import matplotlib.pyplot as plt\n",
    "import warnings\n",
    "\n",
    "import matplotlib.pyplot as plt\n",
    "\n",
    "plt.rcParams[\"figure.figsize\"] = [40, 20]\n",
    "\n",
    "warnings.filterwarnings(\"ignore\")  # Suppress Matplotlib warnings\n",
    "\n",
    "\n",
    "def load_image_into_numpy_array(path):\n",
    "    \"\"\"Load an image from file into a numpy array.\n",
    "\n",
    "    Puts image into numpy array to feed into tensorflow graph.\n",
    "    Note that by convention we put it into a numpy array with shape\n",
    "    (height, width, channels), where channels=3 for RGB.\n",
    "\n",
    "    Args:\n",
    "      path: the file path to the image\n",
    "\n",
    "    Returns:\n",
    "      uint8 numpy array with shape (img_height, img_width, 3)\n",
    "    \"\"\"\n",
    "    return np.array(Image.open(path))\n",
    "\n",
    "\n",
    "IMAGE_PATHS = [\n",
    "    \"/Users/sepi/Desktop/Coding/test/Kaikki.jpg\",\n",
    "    \"/Users/sepi/Desktop/Coding/test/tyhja.jpg\",\n",
    "    \"/Users/sepi/Desktop/Coding/test/ilman_sylinteria.jpg\",\n",
    "    \"/Users/sepi/Desktop/Coding/test/ilman_palloa.jpg\",\n",
    "    \"/Users/sepi/Desktop/Coding/test/ilman_kuutiota.jpg\",\n",
    "    \"/Users/sepi/Desktop/Coding/test/Ilman_kolmiota.jpg\",\n",
    "]\n",
    "\n",
    "for image_path in IMAGE_PATHS:\n",
    "\n",
    "    print(\"Running inference for {}... \".format(image_path), end=\"\")\n",
    "\n",
    "    image_np = load_image_into_numpy_array(image_path)\n",
    "\n",
    "    # Things to try:\n",
    "    # Flip horizontally\n",
    "    # image_np = np.fliplr(image_np).copy()\n",
    "\n",
    "    # Convert image to grayscale\n",
    "    # image_np = np.tile(\n",
    "    #     np.mean(image_np, 2, keepdims=True), (1, 1, 3)).astype(np.uint8)\n",
    "\n",
    "    input_tensor = tf.convert_to_tensor(np.expand_dims(image_np, 0), dtype=tf.float32)\n",
    "\n",
    "    detections = detect_fn(input_tensor)\n",
    "\n",
    "    # All outputs are batches tensors.\n",
    "    # Convert to numpy arrays, and take index [0] to remove the batch dimension.\n",
    "    # We're only interested in the first num_detections.\n",
    "    num_detections = int(detections.pop(\"num_detections\"))\n",
    "    detections = {\n",
    "        key: value[0, :num_detections].numpy() for key, value in detections.items()\n",
    "    }\n",
    "    detections[\"num_detections\"] = num_detections\n",
    "\n",
    "    # detection_classes should be ints.\n",
    "    detections[\"detection_classes\"] = detections[\"detection_classes\"].astype(np.int64)\n",
    "\n",
    "    label_id_offset = 1\n",
    "    image_np_with_detections = image_np.copy()\n",
    "\n",
    "    viz_utils.visualize_boxes_and_labels_on_image_array(\n",
    "        image_np_with_detections,\n",
    "        detections[\"detection_boxes\"],\n",
    "        detections[\"detection_classes\"] + label_id_offset,\n",
    "        detections[\"detection_scores\"],\n",
    "        category_index,\n",
    "        use_normalized_coordinates=True,\n",
    "        max_boxes_to_draw=20,\n",
    "        min_score_thresh=0.5,\n",
    "        agnostic_mode=False,\n",
    "    )\n",
    "\n",
    "    plt.figure()\n",
    "    plt.imshow(image_np_with_detections)\n",
    "    print(\"Done\")\n",
    "plt.show()"
   ]
  }
 ],
 "metadata": {
  "kernelspec": {
   "display_name": "Python 3.10.5 ('tensorflow')",
   "language": "python",
   "name": "python3"
  },
  "language_info": {
   "codemirror_mode": {
    "name": "ipython",
    "version": 3
   },
   "file_extension": ".py",
   "mimetype": "text/x-python",
   "name": "python",
   "nbconvert_exporter": "python",
   "pygments_lexer": "ipython3",
   "version": "3.10.5"
  },
  "orig_nbformat": 4,
  "vscode": {
   "interpreter": {
    "hash": "a5639d2a663ade25509a617dd54df18c69cd9b7fa62695c79884868095b7b4c6"
   }
  }
 },
 "nbformat": 4,
 "nbformat_minor": 2
}
